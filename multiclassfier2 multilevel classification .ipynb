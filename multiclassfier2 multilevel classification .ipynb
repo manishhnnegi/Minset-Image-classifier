{
 "cells": [
  {
   "cell_type": "markdown",
   "id": "d905e765",
   "metadata": {},
   "source": [
    "# multilevel classification "
   ]
  },
  {
   "cell_type": "code",
   "execution_count": 1,
   "id": "06aa62ba",
   "metadata": {},
   "outputs": [],
   "source": [
    "import pandas as pd\n",
    "import numpy as np\n",
    "from sklearn.model_selection import train_test_split\n",
    "from sklearn.compose import ColumnTransformer\n",
    "from sklearn.pipeline import Pipeline\n",
    "from sklearn.impute import SimpleImputer\n",
    "from sklearn.preprocessing import OneHotEncoder, RobustScaler\n",
    "from sklearn.tree import DecisionTreeClassifier"
   ]
  },
  {
   "cell_type": "code",
   "execution_count": 2,
   "id": "5473f858",
   "metadata": {},
   "outputs": [],
   "source": [
    "from sklearn.datasets import load_digits\n",
    "digits = load_digits()\n",
    "y = digits.target\n",
    "X_train, X_test, y_train, y_test = train_test_split(\n",
    " digits.data, y, random_state=0)"
   ]
  },
  {
   "cell_type": "code",
   "execution_count": 7,
   "id": "484489b2",
   "metadata": {},
   "outputs": [
    {
     "data": {
      "image/png": "[encoded data removed]",
      "text/plain": [
       "<Figure size 432x288 with 1 Axes>"
      ]
     },
     "metadata": {
      "needs_background": "light"
     },
     "output_type": "display_data"
    }
   ],
   "source": [
    "%matplotlib inline\n",
    "import matplotlib as mpl\n",
    "import matplotlib.pyplot as plt\n",
    "\n",
    "some_digit = X_train[0]\n",
    "some_digit_image = some_digit.reshape(8,8)\n",
    "plt.imshow(some_digit_image, cmap=mpl.cm.binary)\n",
    "plt.axis(\"off\")\n",
    "\n",
    "\n",
    "plt.show()"
   ]
  },
  {
   "cell_type": "code",
   "execution_count": 8,
   "id": "304dcea0",
   "metadata": {},
   "outputs": [
    {
     "data": {
      "text/plain": [
       "2"
      ]
     },
     "execution_count": 8,
     "metadata": {},
     "output_type": "execute_result"
    }
   ],
   "source": [
    "y_train[0]"
   ]
  },
  {
   "cell_type": "code",
   "execution_count": 9,
   "id": "551e4e61",
   "metadata": {},
   "outputs": [],
   "source": [
    "#lets make multiclassifier"
   ]
  },
  {
   "cell_type": "code",
   "execution_count": 10,
   "id": "2f6ed7c3",
   "metadata": {},
   "outputs": [
    {
     "data": {
      "text/plain": [
       "array([2])"
      ]
     },
     "execution_count": 10,
     "metadata": {},
     "output_type": "execute_result"
    }
   ],
   "source": [
    "from sklearn.linear_model import SGDClassifier   #automatically runs OvA \n",
    "\n",
    "sgd_clf = SGDClassifier(random_state=42)\n",
    "\n",
    "\n",
    "sgd_clf.fit(X_train, y_train) # y_train, not y_train_5\n",
    "sgd_clf.predict([some_digit])"
   ]
  },
  {
   "cell_type": "code",
   "execution_count": 11,
   "id": "a8c93eee",
   "metadata": {},
   "outputs": [
    {
     "data": {
      "text/plain": [
       "array([[-5798.49283312, -4095.80353671,  3702.1556573 , -1516.98373125,\n",
       "        -5039.24614592, -2814.92740216, -4655.66188935, -2524.83588306,\n",
       "        -1751.57920211, -2617.2552933 ]])"
      ]
     },
     "execution_count": 11,
     "metadata": {},
     "output_type": "execute_result"
    }
   ],
   "source": [
    "some_digit_scores = sgd_clf.decision_function([some_digit])\n",
    "some_digit_scores"
   ]
  },
  {
   "cell_type": "code",
   "execution_count": 14,
   "id": "d94b6453",
   "metadata": {},
   "outputs": [
    {
     "data": {
      "text/plain": [
       "2"
      ]
     },
     "execution_count": 14,
     "metadata": {},
     "output_type": "execute_result"
    }
   ],
   "source": [
    "np.argmax(some_digit_scores)"
   ]
  },
  {
   "cell_type": "code",
   "execution_count": 12,
   "id": "8e76f055",
   "metadata": {
    "scrolled": true
   },
   "outputs": [
    {
     "data": {
      "text/plain": [
       "array([0, 1, 2, 3, 4, 5, 6, 7, 8, 9])"
      ]
     },
     "execution_count": 12,
     "metadata": {},
     "output_type": "execute_result"
    }
   ],
   "source": [
    "sgd_clf.classes_"
   ]
  },
  {
   "cell_type": "code",
   "execution_count": 15,
   "id": "fbf32f23",
   "metadata": {},
   "outputs": [
    {
     "data": {
      "text/plain": [
       "2"
      ]
     },
     "execution_count": 15,
     "metadata": {},
     "output_type": "execute_result"
    }
   ],
   "source": [
    "sgd_clf.classes_[2]"
   ]
  },
  {
   "cell_type": "markdown",
   "id": "9b740085",
   "metadata": {},
   "source": [
    "1. If you want to force ScikitLearn to use one-versus-one or one-versus-all, you can use\n",
    "the OneVsOneClassifier or OneVsRestClassifier classes. \n",
    "2. Simply create an instance\n",
    "and pass a binary classifier to its constructor. \n",
    "\n",
    "3. For example, this code creates a multi‐\n",
    "class classifier using the OvO strategy, based on a SGDClassifier"
   ]
  },
  {
   "cell_type": "code",
   "execution_count": 16,
   "id": "240f9b93",
   "metadata": {},
   "outputs": [
    {
     "data": {
      "text/plain": [
       "array([2])"
      ]
     },
     "execution_count": 16,
     "metadata": {},
     "output_type": "execute_result"
    }
   ],
   "source": [
    "#Ovo\n",
    "\n",
    "from sklearn.multiclass import OneVsOneClassifier\n",
    "ovo_clf = OneVsOneClassifier(SGDClassifier(random_state=42))\n",
    "ovo_clf.fit(X_train, y_train)\n",
    "ovo_clf.predict([some_digit])\n"
   ]
  },
  {
   "cell_type": "code",
   "execution_count": 17,
   "id": "0207b8bc",
   "metadata": {},
   "outputs": [
    {
     "data": {
      "text/plain": [
       "45"
      ]
     },
     "execution_count": 17,
     "metadata": {},
     "output_type": "execute_result"
    }
   ],
   "source": [
    "len(ovo_clf.estimators_)\n"
   ]
  },
  {
   "cell_type": "code",
   "execution_count": 20,
   "id": "693557f5",
   "metadata": {},
   "outputs": [
    {
     "data": {
      "text/plain": [
       "array([2])"
      ]
     },
     "execution_count": 20,
     "metadata": {},
     "output_type": "execute_result"
    }
   ],
   "source": [
    "#randomforest\n",
    "\n",
    "from sklearn.ensemble import RandomForestClassifier\n",
    "forest_clf = RandomForestClassifier()\n",
    "forest_clf.fit(X_train, y_train)\n",
    "forest_clf.predict([some_digit])"
   ]
  },
  {
   "cell_type": "markdown",
   "id": "2fd101d8",
   "metadata": {},
   "source": [
    "Scikit-Learn did not have to run OvA or OvO because Random Forest\n",
    "classifiers can directly classify instances into multiple classes.\n",
    "\n",
    "predict_proba() to get the list of probabilities that the classifier assigned to each\n",
    "instance for each class"
   ]
  },
  {
   "cell_type": "code",
   "execution_count": 22,
   "id": "8d4d3359",
   "metadata": {},
   "outputs": [
    {
     "data": {
      "text/plain": [
       "array([[0.  , 0.01, 0.96, 0.  , 0.  , 0.01, 0.01, 0.  , 0.01, 0.  ]])"
      ]
     },
     "execution_count": 22,
     "metadata": {},
     "output_type": "execute_result"
    }
   ],
   "source": [
    "some_digit_prob  =  forest_clf.predict_proba([some_digit])\n",
    "some_digit_prob"
   ]
  },
  {
   "cell_type": "markdown",
   "id": "62a630de",
   "metadata": {},
   "source": [
    "the classifier is fairly confident about its prediction: the 0.96 at the 2th\n",
    "index in the array means that the model estimates a 96% probability that the image\n",
    "represents a 5. "
   ]
  },
  {
   "cell_type": "code",
   "execution_count": 23,
   "id": "472295ca",
   "metadata": {},
   "outputs": [
    {
     "data": {
      "text/plain": [
       "2"
      ]
     },
     "execution_count": 23,
     "metadata": {},
     "output_type": "execute_result"
    }
   ],
   "source": [
    "np.argmax(some_digit_prob)"
   ]
  },
  {
   "cell_type": "code",
   "execution_count": 26,
   "id": "adc429a1",
   "metadata": {},
   "outputs": [
    {
     "data": {
      "text/plain": [
       "2"
      ]
     },
     "execution_count": 26,
     "metadata": {},
     "output_type": "execute_result"
    }
   ],
   "source": [
    "forest_clf.classes_[2]"
   ]
  },
  {
   "cell_type": "markdown",
   "id": "d15b95ca",
   "metadata": {},
   "source": [
    "# evaluate these classifiers."
   ]
  },
  {
   "cell_type": "code",
   "execution_count": 33,
   "id": "6ad846f8",
   "metadata": {},
   "outputs": [
    {
     "name": "stdout",
     "output_type": "stream",
     "text": [
      "0.9487750556792873\n"
     ]
    },
    {
     "data": {
      "text/plain": [
       "array([0.93541203, 0.94877506, 0.96213808])"
      ]
     },
     "execution_count": 33,
     "metadata": {},
     "output_type": "execute_result"
    }
   ],
   "source": [
    "from sklearn.model_selection import cross_val_score\n",
    "score1 = cross_val_score(sgd_clf, X_train, y_train, cv=3, scoring=\"accuracy\")\n",
    "print(np.mean(score1))\n",
    "score1"
   ]
  },
  {
   "cell_type": "markdown",
   "id": "2a54164c",
   "metadata": {},
   "source": [
    "it gets over 93% on all test folds."
   ]
  },
  {
   "cell_type": "code",
   "execution_count": 34,
   "id": "f575e086",
   "metadata": {},
   "outputs": [
    {
     "name": "stdout",
     "output_type": "stream",
     "text": [
      "0.9487750556792873\n"
     ]
    },
    {
     "data": {
      "text/plain": [
       "array([0.9532294 , 0.93541203, 0.95768374])"
      ]
     },
     "execution_count": 34,
     "metadata": {},
     "output_type": "execute_result"
    }
   ],
   "source": [
    "from sklearn.preprocessing import StandardScaler\n",
    "scaler = StandardScaler()\n",
    "X_train_scaled = scaler.fit_transform(X_train.astype(np.float64))\n",
    "\n",
    "score = cross_val_score(sgd_clf, X_train_scaled, y_train, cv=3, scoring=\"accuracy\")\n",
    "print(np.mean(score))\n",
    "score"
   ]
  },
  {
   "cell_type": "markdown",
   "id": "07c8a1f2",
   "metadata": {},
   "source": [
    "scaleing doesnt effect much to the test accuracy as did in books example"
   ]
  },
  {
   "cell_type": "markdown",
   "id": "f6ede9f0",
   "metadata": {},
   "source": [
    "# Error Analysis"
   ]
  },
  {
   "cell_type": "code",
   "execution_count": 35,
   "id": "196667c4",
   "metadata": {},
   "outputs": [],
   "source": [
    "#confusion metrix"
   ]
  },
  {
   "cell_type": "code",
   "execution_count": 37,
   "id": "dbae4bda",
   "metadata": {},
   "outputs": [],
   "source": [
    "from sklearn.model_selection import cross_val_predict\n",
    "y_train_pred = cross_val_predict(sgd_clf, X_train,y_train,cv=3)"
   ]
  },
  {
   "cell_type": "code",
   "execution_count": 41,
   "id": "4ee4a31c",
   "metadata": {},
   "outputs": [
    {
     "data": {
      "text/plain": [
       "array([[140,   0,   0,   0,   0,   0,   1,   0,   0,   0],\n",
       "       [  0, 130,   0,   2,   1,   0,   2,   0,   3,   1],\n",
       "       [  0,   2, 129,   1,   0,   0,   0,   0,   0,   1],\n",
       "       [  0,   0,   0, 127,   0,   5,   0,   2,   3,   1],\n",
       "       [  0,   0,   0,   0, 140,   0,   0,   0,   3,   0],\n",
       "       [  0,   1,   0,   1,   0, 128,   1,   1,   0,   2],\n",
       "       [  0,   1,   0,   0,   1,   1, 125,   0,   1,   0],\n",
       "       [  0,   0,   0,   2,   0,   0,   0, 127,   1,   1],\n",
       "       [  0,   7,   0,   3,   1,   1,   2,   0, 111,   1],\n",
       "       [  0,   2,   0,   4,   0,   0,   0,   1,   5, 121]], dtype=int64)"
      ]
     },
     "execution_count": 41,
     "metadata": {},
     "output_type": "execute_result"
    }
   ],
   "source": [
    "from sklearn.metrics import confusion_matrix\n",
    "con_mtrx = confusion_matrix(y_train, y_train_pred)\n",
    "con_mtrx"
   ]
  },
  {
   "cell_type": "code",
   "execution_count": 42,
   "id": "552ee29a",
   "metadata": {},
   "outputs": [
    {
     "data": {
      "text/plain": [
       "array([0, 1, 2, 3, 4, 5, 6, 7, 8, 9])"
      ]
     },
     "execution_count": 42,
     "metadata": {},
     "output_type": "execute_result"
    }
   ],
   "source": [
    "sgd_clf.classes_"
   ]
  },
  {
   "cell_type": "markdown",
   "id": "557f54d2",
   "metadata": {},
   "source": [
    "That’s a lot of numbers. It’s often more convenient to look at an image representation\n",
    "of the confusion matrix, using Matplotlib’s matshow() function"
   ]
  },
  {
   "cell_type": "code",
   "execution_count": 48,
   "id": "be4aaf7c",
   "metadata": {},
   "outputs": [
    {
     "data": {
      "text/plain": [
       "<Figure size 1440x1440 with 0 Axes>"
      ]
     },
     "metadata": {},
     "output_type": "display_data"
    },
    {
     "data": {
      "image/png": "[encoded data removed]",
      "text/plain": [
       "<Figure size 288x288 with 1 Axes>"
      ]
     },
     "metadata": {
      "needs_background": "light"
     },
     "output_type": "display_data"
    }
   ],
   "source": [
    "plt.figure(figsize= (20,20))\n",
    "plt.matshow(con_mtrx, cmap = plt.cm.gray)\n",
    "plt.show()\n",
    "\n",
    "#rows represent actual classes, while columns represent predicted classes"
   ]
  },
  {
   "cell_type": "markdown",
   "id": "68c77122",
   "metadata": {},
   "source": [
    "This confusion matrix looks fairly good, since most images are on the main diagonal,\n",
    "which means that they were classified correctly. \n",
    "\n",
    "The 8s look slightly darker than the\n",
    "other digits, which could mean that there are fewer images of 8s in the dataset or that\n",
    "the classifier does not perform as well on 8s as on other digits"
   ]
  },
  {
   "cell_type": "code",
   "execution_count": 61,
   "id": "2a3bf3fe",
   "metadata": {},
   "outputs": [
    {
     "data": {
      "text/plain": [
       "4    143\n",
       "0    141\n",
       "1    139\n",
       "3    138\n",
       "5    134\n",
       "2    133\n",
       "9    133\n",
       "7    131\n",
       "6    129\n",
       "8    126\n",
       "Name: y, dtype: int64"
      ]
     },
     "execution_count": 61,
     "metadata": {},
     "output_type": "execute_result"
    }
   ],
   "source": [
    "df =pd.DataFrame(X_train )\n",
    "df['y'] = y_train\n",
    "df.y .value_counts()"
   ]
  },
  {
   "cell_type": "markdown",
   "id": "c0cc0f76",
   "metadata": {},
   "source": [
    "Let’s focus the plot on the errors. \n",
    "\n",
    "First, you need to divide each value in the confusion\n",
    "matrix by the number of images in the corresponding class, so you can compare errorrates instead of absolute number of errors ("
   ]
  },
  {
   "cell_type": "code",
   "execution_count": 106,
   "id": "b0b3c4b3",
   "metadata": {},
   "outputs": [
    {
     "name": "stdout",
     "output_type": "stream",
     "text": [
      "[[0.9929078  0.         0.        ]\n",
      " [0.         0.9352518  0.        ]\n",
      " [0.         0.01503759 0.96992481]]\n"
     ]
    },
    {
     "data": {
      "text/plain": [
       "array([[0.9929078 , 0.        , 0.        , 0.        , 0.        ,\n",
       "        0.        , 0.0070922 , 0.        , 0.        , 0.        ],\n",
       "       [0.        , 0.9352518 , 0.        , 0.01438849, 0.00719424,\n",
       "        0.        , 0.01438849, 0.        , 0.02158273, 0.00719424],\n",
       "       [0.        , 0.01503759, 0.96992481, 0.0075188 , 0.        ,\n",
       "        0.        , 0.        , 0.        , 0.        , 0.0075188 ],\n",
       "       [0.        , 0.        , 0.        , 0.92028986, 0.        ,\n",
       "        0.03623188, 0.        , 0.01449275, 0.02173913, 0.00724638],\n",
       "       [0.        , 0.        , 0.        , 0.        , 0.97902098,\n",
       "        0.        , 0.        , 0.        , 0.02097902, 0.        ],\n",
       "       [0.        , 0.00746269, 0.        , 0.00746269, 0.        ,\n",
       "        0.95522388, 0.00746269, 0.00746269, 0.        , 0.01492537],\n",
       "       [0.        , 0.00775194, 0.        , 0.        , 0.00775194,\n",
       "        0.00775194, 0.96899225, 0.        , 0.00775194, 0.        ],\n",
       "       [0.        , 0.        , 0.        , 0.01526718, 0.        ,\n",
       "        0.        , 0.        , 0.96946565, 0.00763359, 0.00763359],\n",
       "       [0.        , 0.05555556, 0.        , 0.02380952, 0.00793651,\n",
       "        0.00793651, 0.01587302, 0.        , 0.88095238, 0.00793651],\n",
       "       [0.        , 0.01503759, 0.        , 0.03007519, 0.        ,\n",
       "        0.        , 0.        , 0.0075188 , 0.03759398, 0.90977444]])"
      ]
     },
     "execution_count": 106,
     "metadata": {},
     "output_type": "execute_result"
    }
   ],
   "source": [
    "row_sums = con_mtrx.sum(axis=1, keepdims=True)\n",
    "norm_conf_mx = con_mtrx / row_sums\n",
    "print(norm_conf_mx[:3,:3])\n",
    "norm_conf_mx\n"
   ]
  },
  {
   "cell_type": "markdown",
   "id": "aa83151d",
   "metadata": {},
   "source": [
    "Now let’s fill the diagonal with zeros to keep only the errors, and let’s plot the result:"
   ]
  },
  {
   "cell_type": "code",
   "execution_count": 104,
   "id": "ef5264fe",
   "metadata": {},
   "outputs": [
    {
     "name": "stdout",
     "output_type": "stream",
     "text": [
      "[[0.         0.         0.        ]\n",
      " [0.         0.         0.        ]\n",
      " [0.         0.01503759 0.        ]]\n"
     ]
    }
   ],
   "source": [
    "np.fill_diagonal(norm_conf_mx, 0)\n",
    "print(norm_conf_mx[:3,:3])"
   ]
  },
  {
   "cell_type": "code",
   "execution_count": 107,
   "id": "df2496f6",
   "metadata": {},
   "outputs": [
    {
     "data": {
      "image/png": "[encoded data removed]",
      "text/plain": [
       "<Figure size 288x288 with 1 Axes>"
      ]
     },
     "metadata": {
      "needs_background": "light"
     },
     "output_type": "display_data"
    }
   ],
   "source": [
    "plt.matshow(norm_conf_mx, cmap=plt.cm.gray)\n",
    "plt.show()\n"
   ]
  },
  {
   "cell_type": "markdown",
   "id": "4cc48e02",
   "metadata": {},
   "source": [
    "in book example fig\n",
    "\n",
    "\n",
    "Now you can clearly see the kinds of errors the classifier makes. Remember that rows\n",
    "represent actual classes, while columns represent predicted classes. The column for\n",
    "class 8 is quite bright, which tells you that many images get misclassified as 8s. \n",
    "\n",
    "How‐\n",
    "ever, the row for class 8 is not that bad, telling you that actual 8s in general get prop‐\n",
    "erly classified as 8s. \n",
    "\n",
    "As you can see, the confusion matrix is not necessarily\n",
    "symmetrical. You can also see that 3s and 5s often get confused (in both directions).\n",
    "Analyzing the confusion matrix can often give you insights on ways to improve your\n",
    "classifier. Looking at this plot, it seems that your efforts should be spent on reducing\n",
    "the false 8s.\n",
    "\n",
    "fig - link \n",
    "file:///E:/books/2-Aur%C3%A9lien-G%C3%A9ron-Hands-On-Machine-Learning-with-Scikit-Learn-Keras-and-Tensorflow_-Concepts-Tools-and-Techniques-to-Build-Intelligent-Systems-O%E2%80%99Reilly-Media-2019.pdf"
   ]
  },
  {
   "cell_type": "markdown",
   "id": "198695a1",
   "metadata": {},
   "source": [
    "# Multilabel Classication"
   ]
  },
  {
   "cell_type": "markdown",
   "id": "d6dad5fa",
   "metadata": {},
   "source": [
    "1. want your classifier to output multiple classes for each instance.\n",
    "\n",
    "2. face-recognition classifier: what should it do if it recognizes several people\n",
    "on the same picture\n",
    "\n",
    "3. recognize three faces, Alice, Bob, and Charlie;\n",
    "when it is shown a picture of Alice and Charlie, it should output [1, 0, 1]\n",
    "4. Such a classification system that outputs multiple\n",
    "binary tags is called a multilabel classification system."
   ]
  },
  {
   "cell_type": "code",
   "execution_count": 109,
   "id": "ad141c81",
   "metadata": {},
   "outputs": [],
   "source": [
    "from sklearn.neighbors import KNeighborsClassifier\n",
    "y_train_large = (y_train >= 7)\n",
    "y_train_odd = (y_train % 2 == 1)\n",
    "y_multilabel = np.c_[y_train_large, y_train_odd]\n"
   ]
  },
  {
   "cell_type": "code",
   "execution_count": 111,
   "id": "c677c3a8",
   "metadata": {},
   "outputs": [
    {
     "data": {
      "text/plain": [
       "array([[False, False],\n",
       "       [ True, False],\n",
       "       [ True,  True],\n",
       "       ...,\n",
       "       [ True,  True],\n",
       "       [ True,  True],\n",
       "       [ True, False]])"
      ]
     },
     "execution_count": 111,
     "metadata": {},
     "output_type": "execute_result"
    }
   ],
   "source": [
    "y_multilabel"
   ]
  },
  {
   "cell_type": "markdown",
   "id": "82868262",
   "metadata": {},
   "source": [
    "1. This code creates a y_multilabel array containing two target labels for each digit\n",
    "image: \n",
    "2. the first indicates whether or not the digit is large (7, 8, or 9) and \n",
    "3. the second\n",
    "indicates whether or not it is odd. "
   ]
  },
  {
   "cell_type": "code",
   "execution_count": 112,
   "id": "61100af2",
   "metadata": {},
   "outputs": [
    {
     "data": {
      "text/plain": [
       "KNeighborsClassifier()"
      ]
     },
     "execution_count": 112,
     "metadata": {},
     "output_type": "execute_result"
    }
   ],
   "source": [
    "knn_clf = KNeighborsClassifier()\n",
    "knn_clf.fit(X_train, y_multilabel)"
   ]
  },
  {
   "cell_type": "code",
   "execution_count": 113,
   "id": "7e7115a9",
   "metadata": {},
   "outputs": [
    {
     "data": {
      "text/plain": [
       "array([[False, False]])"
      ]
     },
     "execution_count": 113,
     "metadata": {},
     "output_type": "execute_result"
    }
   ],
   "source": [
    "knn_clf.predict([some_digit])\n"
   ]
  },
  {
   "cell_type": "code",
   "execution_count": 118,
   "id": "bb4f7011",
   "metadata": {},
   "outputs": [
    {
     "data": {
      "text/plain": [
       "2"
      ]
     },
     "execution_count": 118,
     "metadata": {},
     "output_type": "execute_result"
    }
   ],
   "source": [
    "#some_digit= X_train[0]\n",
    "y_train[0]"
   ]
  },
  {
   "cell_type": "code",
   "execution_count": 120,
   "id": "aef41a3c",
   "metadata": {},
   "outputs": [
    {
     "name": "stdout",
     "output_type": "stream",
     "text": [
      "9\n"
     ]
    },
    {
     "data": {
      "text/plain": [
       "array([[ True,  True]])"
      ]
     },
     "execution_count": 120,
     "metadata": {},
     "output_type": "execute_result"
    }
   ],
   "source": [
    "#let \n",
    "some_digit1= X_train[7]\n",
    "print(y_train[7])\n",
    "knn_clf.predict([some_digit1])"
   ]
  },
  {
   "cell_type": "code",
   "execution_count": 121,
   "id": "e23596d4",
   "metadata": {},
   "outputs": [],
   "source": [
    "#evaluation of model"
   ]
  },
  {
   "cell_type": "markdown",
   "id": "a21b7cb4",
   "metadata": {},
   "source": [
    "one approach is to measure the F1\n",
    " score\n",
    "for each individual label (or any other binary classifier metric discussed earlier), then\n",
    "simply compute the average score"
   ]
  },
  {
   "cell_type": "code",
   "execution_count": 124,
   "id": "fd4b1c61",
   "metadata": {},
   "outputs": [
    {
     "data": {
      "text/plain": [
       "0.9820990302926285"
      ]
     },
     "execution_count": 124,
     "metadata": {},
     "output_type": "execute_result"
    }
   ],
   "source": [
    "from sklearn.metrics import f1_score\n",
    "y_train_knn_pred = cross_val_predict(knn_clf, X_train, y_multilabel, cv=3)\n",
    "\n",
    "f1_score(y_multilabel, y_train_knn_pred, average=\"macro\")"
   ]
  },
  {
   "cell_type": "markdown",
   "id": "a2f4621b",
   "metadata": {},
   "source": [
    "This assumes that all labels are equally important, which may not be the case. \n",
    "\n",
    "In par‐\n",
    "ticular, if you have many more pictures of Alice than of Bob or Charlie, you may want\n",
    "to give more weight to the classifier’s score on pictures of Alice. One simple option is\n",
    "to give each label a weight equal to its support (i.e., the number of instances with that\n",
    "target label). To do this, simply set average=\"weighted\" in the preceding code."
   ]
  },
  {
   "cell_type": "code",
   "execution_count": 126,
   "id": "9adfb12e",
   "metadata": {},
   "outputs": [
    {
     "data": {
      "text/plain": [
       "0.9835320167810259"
      ]
     },
     "execution_count": 126,
     "metadata": {},
     "output_type": "execute_result"
    }
   ],
   "source": [
    "from sklearn.metrics import f1_score\n",
    "y_train_knn_pred = cross_val_predict(knn_clf, X_train, y_multilabel, cv=3)\n",
    "\n",
    "f1_score(y_multilabel, y_train_knn_pred,  average=\"weighted\")"
   ]
  },
  {
   "cell_type": "code",
   "execution_count": 136,
   "id": "b8e3f36a",
   "metadata": {},
   "outputs": [
    {
     "data": {
      "text/plain": [
       "0.9784706755753526"
      ]
     },
     "execution_count": 136,
     "metadata": {},
     "output_type": "execute_result"
    }
   ],
   "source": [
    "from sklearn import metrics\n",
    "metrics.accuracy_score(y_multilabel, y_train_knn_pred)"
   ]
  },
  {
   "cell_type": "code",
   "execution_count": null,
   "id": "29974caa",
   "metadata": {},
   "outputs": [],
   "source": []
  }
 ],
 "metadata": {
  "kernelspec": {
   "display_name": "Python 3 (ipykernel)",
   "language": "python",
   "name": "python3"
  },
  "language_info": {
   "codemirror_mode": {
    "name": "ipython",
    "version": 3
   },
   "file_extension": ".py",
   "mimetype": "text/x-python",
   "name": "python",
   "nbconvert_exporter": "python",
   "pygments_lexer": "ipython3",
   "version": "3.9.7"
  }
 },
 "nbformat": 4,
 "nbformat_minor": 5
}
